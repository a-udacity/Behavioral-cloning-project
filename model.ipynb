{
 "cells": [
  {
   "cell_type": "code",
   "execution_count": 55,
   "metadata": {
    "collapsed": false
   },
   "outputs": [],
   "source": [
    "import json\n",
    "import os\n",
    "\n",
    "import cv2\n",
    "import matplotlib\n",
    "import numpy as np\n",
    "import pandas as pd\n",
    "from keras.layers import Dense, Activation, Dropout, Convolution2D, MaxPooling2D, Flatten, Lambda\n",
    "from keras.models import Sequential\n",
    "from keras.models import model_from_json\n",
    "from keras.optimizers import Adam\n",
    "from keras.preprocessing.image import img_to_array, load_img\n",
    "\n",
    "%matplotlib inline\n",
    "matplotlib.style.use('ggplot')\n",
    "\n",
    "TARGET_SIZE = (64, 64)\n",
    "BATCH_SIZE = 32\n",
    "\n",
    "data_dir = './data/'\n",
    "data_csv = './data/driving_log.csv'\n",
    "model_json = 'model.json'\n",
    "model_weights = 'model.h5'"
   ]
  },
  {
   "cell_type": "code",
   "execution_count": 56,
   "metadata": {
    "collapsed": true
   },
   "outputs": [],
   "source": [
    "def normalize(X):\n",
    "    X = X / 255.0\n",
    "    return X\n",
    "\n",
    "\n",
    "def equalize_channel(X):\n",
    "    for i in range(0, 3):\n",
    "        channel = X[:, :, i]\n",
    "        channel = channel.astype(np.uint8)\n",
    "        channel = cv2.equalizeHist(channel)\n",
    "        X[:, :, i] = channel\n",
    "    return X\n",
    "\n",
    "\n",
    "def pre_process(X):\n",
    "    result = []\n",
    "    for i in range(0, X.shape[0]):\n",
    "        img = np.array(X[i, :, :, :])\n",
    "        equalize_channel(img)\n",
    "        img = normalize(img)\n",
    "        result.append(img)\n",
    "\n",
    "    return np.array(result)"
   ]
  },
  {
   "cell_type": "code",
   "execution_count": null,
   "metadata": {
    "collapsed": true
   },
   "outputs": [],
   "source": []
  }
 ],
 "metadata": {
  "kernelspec": {
   "display_name": "Python 3",
   "language": "python",
   "name": "python3"
  },
  "language_info": {
   "codemirror_mode": {
    "name": "ipython",
    "version": 3
   },
   "file_extension": ".py",
   "mimetype": "text/x-python",
   "name": "python",
   "nbconvert_exporter": "python",
   "pygments_lexer": "ipython3",
   "version": "3.5.2"
  },
  "widgets": {
   "state": {},
   "version": "1.1.2"
  }
 },
 "nbformat": 4,
 "nbformat_minor": 2
}
